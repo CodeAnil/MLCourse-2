{
 "cells": [
  {
   "cell_type": "code",
   "execution_count": 4,
   "metadata": {},
   "outputs": [],
   "source": [
    "from sklearn.model_selection import cross_val_score\n",
    "import numpy as np\n",
    "import random\n",
    "import pandas as pd # data processing, CSV file I/O (e.g. pd.read_csv), data manipulation as in SQL\n",
    "import matplotlib.pyplot as plt # this is used for the plot the graph\n",
    "import seaborn as sns # used for plot interactive graph. I like it most for plot\n",
    "from sklearn.linear_model import LogisticRegression # to apply the Logistic regression\n",
    "from sklearn.model_selection import train_test_split # to split the data into two parts\n",
    "from sklearn import metrics # for the check the error and accuracy of the model\n",
    "from sklearn.tree import DecisionTreeClassifier\n",
    "# Any results you write to the current directory are saved as output.\n",
    "# dont worry about the error if its not working then insteda of model_selection we can use cross_validation"
   ]
  },
  {
   "cell_type": "code",
   "execution_count": 48,
   "metadata": {},
   "outputs": [],
   "source": [
    "#Based on corrplot let's select some features for the model ( decision is made in order to remove collinearity)\n",
    "prediction_var = ['age','avg_glucose_level','hypertension']\n",
    "# now these are the variables which will use for prediction"
   ]
  },
  {
   "cell_type": "code",
   "execution_count": 49,
   "metadata": {},
   "outputs": [
    {
     "name": "stdout",
     "output_type": "stream",
     "text": [
      "(43400, 12)\n",
      "(18601, 11)\n"
     ]
    }
   ],
   "source": [
    "#now split our data into train and test\n",
    "#train, test = train_test_split(data, test_size = 0.3)# in this our main data is splitted into train and test\n",
    "np.random.seed(2)\n",
    "random.seed(2)\n",
    "train_data = pd.read_csv(\"data/train_2v.csv\",header=0)\n",
    "test_data = pd.read_csv(\"data/test_2v.csv\",header=0)\n",
    "# we can check their dimension\n",
    "print(train_data.shape)\n",
    "print(test_data.shape)"
   ]
  },
  {
   "cell_type": "code",
   "execution_count": 43,
   "metadata": {},
   "outputs": [],
   "source": [
    "test_data['Residence_type']=test_data['Residence_type'].map({'Urban':1,'Rural':0})\n",
    "train_data['Residence_type']=train_data['Residence_type'].map({'Urban':1,'Rural':0})\n",
    "test_data['ever_married']=test_data['ever_married'].map({'Yes':1,'No':0})\n",
    "train_data['ever_married']=train_data['ever_married'].map({'Yes':1,'No':0})\n",
    "test_data['gender']=test_data['gender'].map({'Male':1,'Female':0})\n",
    "train_data['gender']=train_data['gender'].map({'Male':1,'Female':0})\n",
    "test_data['smoking_status']=test_data['smoking_status'].map({'formerly smoked':1,'never smoked':0, 'smokes': 1, 'NaN': 0})\n",
    "train_data['smoking_status']=train_data['smoking_status'].map({'formerly smoked':1,'never smoked':0, 'smokes': 1, 'NaN': 0})"
   ]
  },
  {
   "cell_type": "code",
   "execution_count": 44,
   "metadata": {},
   "outputs": [
    {
     "data": {
      "text/html": [
       "<div>\n",
       "<style scoped>\n",
       "    .dataframe tbody tr th:only-of-type {\n",
       "        vertical-align: middle;\n",
       "    }\n",
       "\n",
       "    .dataframe tbody tr th {\n",
       "        vertical-align: top;\n",
       "    }\n",
       "\n",
       "    .dataframe thead th {\n",
       "        text-align: right;\n",
       "    }\n",
       "</style>\n",
       "<table border=\"1\" class=\"dataframe\">\n",
       "  <thead>\n",
       "    <tr style=\"text-align: right;\">\n",
       "      <th></th>\n",
       "      <th>id</th>\n",
       "      <th>gender</th>\n",
       "      <th>age</th>\n",
       "      <th>hypertension</th>\n",
       "      <th>heart_disease</th>\n",
       "      <th>ever_married</th>\n",
       "      <th>Residence_type</th>\n",
       "      <th>avg_glucose_level</th>\n",
       "      <th>bmi</th>\n",
       "      <th>smoking_status</th>\n",
       "    </tr>\n",
       "  </thead>\n",
       "  <tbody>\n",
       "    <tr>\n",
       "      <th>count</th>\n",
       "      <td>18601.000000</td>\n",
       "      <td>18599.000000</td>\n",
       "      <td>18601.000000</td>\n",
       "      <td>18601.000000</td>\n",
       "      <td>18601.000000</td>\n",
       "      <td>18601.000000</td>\n",
       "      <td>18601.000000</td>\n",
       "      <td>18601.000000</td>\n",
       "      <td>18010.000000</td>\n",
       "      <td>12850.000000</td>\n",
       "    </tr>\n",
       "    <tr>\n",
       "      <th>mean</th>\n",
       "      <td>36747.368045</td>\n",
       "      <td>0.410882</td>\n",
       "      <td>42.056504</td>\n",
       "      <td>0.093167</td>\n",
       "      <td>0.048062</td>\n",
       "      <td>0.641847</td>\n",
       "      <td>0.500511</td>\n",
       "      <td>104.386359</td>\n",
       "      <td>28.545325</td>\n",
       "      <td>0.468249</td>\n",
       "    </tr>\n",
       "    <tr>\n",
       "      <th>std</th>\n",
       "      <td>21053.151124</td>\n",
       "      <td>0.492007</td>\n",
       "      <td>22.528018</td>\n",
       "      <td>0.290674</td>\n",
       "      <td>0.213903</td>\n",
       "      <td>0.479470</td>\n",
       "      <td>0.500013</td>\n",
       "      <td>42.606714</td>\n",
       "      <td>7.757092</td>\n",
       "      <td>0.499010</td>\n",
       "    </tr>\n",
       "    <tr>\n",
       "      <th>min</th>\n",
       "      <td>2.000000</td>\n",
       "      <td>0.000000</td>\n",
       "      <td>0.080000</td>\n",
       "      <td>0.000000</td>\n",
       "      <td>0.000000</td>\n",
       "      <td>0.000000</td>\n",
       "      <td>0.000000</td>\n",
       "      <td>55.000000</td>\n",
       "      <td>10.200000</td>\n",
       "      <td>0.000000</td>\n",
       "    </tr>\n",
       "    <tr>\n",
       "      <th>25%</th>\n",
       "      <td>18542.000000</td>\n",
       "      <td>0.000000</td>\n",
       "      <td>24.000000</td>\n",
       "      <td>0.000000</td>\n",
       "      <td>0.000000</td>\n",
       "      <td>0.000000</td>\n",
       "      <td>0.000000</td>\n",
       "      <td>77.550000</td>\n",
       "      <td>23.300000</td>\n",
       "      <td>0.000000</td>\n",
       "    </tr>\n",
       "    <tr>\n",
       "      <th>50%</th>\n",
       "      <td>36717.000000</td>\n",
       "      <td>0.000000</td>\n",
       "      <td>43.000000</td>\n",
       "      <td>0.000000</td>\n",
       "      <td>0.000000</td>\n",
       "      <td>1.000000</td>\n",
       "      <td>1.000000</td>\n",
       "      <td>91.830000</td>\n",
       "      <td>27.700000</td>\n",
       "      <td>0.000000</td>\n",
       "    </tr>\n",
       "    <tr>\n",
       "      <th>75%</th>\n",
       "      <td>55114.000000</td>\n",
       "      <td>1.000000</td>\n",
       "      <td>60.000000</td>\n",
       "      <td>0.000000</td>\n",
       "      <td>0.000000</td>\n",
       "      <td>1.000000</td>\n",
       "      <td>1.000000</td>\n",
       "      <td>112.310000</td>\n",
       "      <td>32.800000</td>\n",
       "      <td>1.000000</td>\n",
       "    </tr>\n",
       "    <tr>\n",
       "      <th>max</th>\n",
       "      <td>72942.000000</td>\n",
       "      <td>1.000000</td>\n",
       "      <td>82.000000</td>\n",
       "      <td>1.000000</td>\n",
       "      <td>1.000000</td>\n",
       "      <td>1.000000</td>\n",
       "      <td>1.000000</td>\n",
       "      <td>275.720000</td>\n",
       "      <td>88.300000</td>\n",
       "      <td>1.000000</td>\n",
       "    </tr>\n",
       "  </tbody>\n",
       "</table>\n",
       "</div>"
      ],
      "text/plain": [
       "                 id        gender           age  hypertension  heart_disease  \\\n",
       "count  18601.000000  18599.000000  18601.000000  18601.000000   18601.000000   \n",
       "mean   36747.368045      0.410882     42.056504      0.093167       0.048062   \n",
       "std    21053.151124      0.492007     22.528018      0.290674       0.213903   \n",
       "min        2.000000      0.000000      0.080000      0.000000       0.000000   \n",
       "25%    18542.000000      0.000000     24.000000      0.000000       0.000000   \n",
       "50%    36717.000000      0.000000     43.000000      0.000000       0.000000   \n",
       "75%    55114.000000      1.000000     60.000000      0.000000       0.000000   \n",
       "max    72942.000000      1.000000     82.000000      1.000000       1.000000   \n",
       "\n",
       "       ever_married  Residence_type  avg_glucose_level           bmi  \\\n",
       "count  18601.000000    18601.000000       18601.000000  18010.000000   \n",
       "mean       0.641847        0.500511         104.386359     28.545325   \n",
       "std        0.479470        0.500013          42.606714      7.757092   \n",
       "min        0.000000        0.000000          55.000000     10.200000   \n",
       "25%        0.000000        0.000000          77.550000     23.300000   \n",
       "50%        1.000000        1.000000          91.830000     27.700000   \n",
       "75%        1.000000        1.000000         112.310000     32.800000   \n",
       "max        1.000000        1.000000         275.720000     88.300000   \n",
       "\n",
       "       smoking_status  \n",
       "count    12850.000000  \n",
       "mean         0.468249  \n",
       "std          0.499010  \n",
       "min          0.000000  \n",
       "25%          0.000000  \n",
       "50%          0.000000  \n",
       "75%          1.000000  \n",
       "max          1.000000  "
      ]
     },
     "execution_count": 44,
     "metadata": {},
     "output_type": "execute_result"
    }
   ],
   "source": [
    "test_data.describe()"
   ]
  },
  {
   "cell_type": "code",
   "execution_count": 50,
   "metadata": {},
   "outputs": [],
   "source": [
    "train_X = train_data[prediction_var]# taking the training data input\n",
    "train_y=train_data.heart_disease# This is output of our training data\n",
    "# same we have to do for test\n",
    "test_X= test_data[prediction_var] # taking test data inputs\n",
    "test_y =test_data.heart_disease   #output value of test data"
   ]
  },
  {
   "cell_type": "code",
   "execution_count": 51,
   "metadata": {},
   "outputs": [
    {
     "name": "stdout",
     "output_type": "stream",
     "text": [
      "0.9519380678458147\n"
     ]
    },
    {
     "name": "stderr",
     "output_type": "stream",
     "text": [
      "/Users/venkateswararaokalluri/workspace/ml/lib/python3.7/site-packages/sklearn/linear_model/logistic.py:433: FutureWarning: Default solver will be changed to 'lbfgs' in 0.22. Specify a solver to silence this warning.\n",
      "  FutureWarning)\n"
     ]
    }
   ],
   "source": [
    "logistic = LogisticRegression()\n",
    "logistic.fit(train_X,train_y)\n",
    "temp=logistic.predict(test_X)\n",
    "print(metrics.accuracy_score(temp,test_y)) # to check the accuracy"
   ]
  },
  {
   "cell_type": "code",
   "execution_count": 52,
   "metadata": {},
   "outputs": [
    {
     "name": "stdout",
     "output_type": "stream",
     "text": [
      "0.9180689210257513\n"
     ]
    }
   ],
   "source": [
    "clf = DecisionTreeClassifier(random_state=0)\n",
    "#cross_val_score(clf, train_X, train_y, cv=10)\n",
    "clf.fit(train_X,train_y, sample_weight=None, check_input=True, X_idx_sorted=None)\n",
    "#clf.get_params(deep=True)\n",
    "clf.predict(test_X, check_input=True)\n",
    "#clf.predict_log_proba(test_X)\n",
    "#clf.predict(test_X,check_input=True)\n",
    "print(clf.score(test_X,test_y, sample_weight=None))"
   ]
  },
  {
   "cell_type": "code",
   "execution_count": 54,
   "metadata": {},
   "outputs": [
    {
     "name": "stdout",
     "output_type": "stream",
     "text": [
      "0.9259717219504328\n"
     ]
    }
   ],
   "source": [
    "from sklearn.ensemble import RandomForestClassifier\n",
    "model=RandomForestClassifier(n_estimators=100)# a simple random forest model\n",
    "model.fit(train_X,train_y)# now fit our model for traiing data\n",
    "prediction=model.predict(test_X)# predict for the test data\n",
    "print(model.score(test_X,test_y, sample_weight=None))\n"
   ]
  }
 ],
 "metadata": {
  "kernelspec": {
   "display_name": "Python 3",
   "language": "python",
   "name": "python3"
  },
  "language_info": {
   "codemirror_mode": {
    "name": "ipython",
    "version": 3
   },
   "file_extension": ".py",
   "mimetype": "text/x-python",
   "name": "python",
   "nbconvert_exporter": "python",
   "pygments_lexer": "ipython3",
   "version": "3.7.1"
  }
 },
 "nbformat": 4,
 "nbformat_minor": 1
}
