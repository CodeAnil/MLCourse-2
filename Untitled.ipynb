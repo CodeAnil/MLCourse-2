{
 "cells": [
  {
   "cell_type": "code",
   "execution_count": 1,
   "metadata": {},
   "outputs": [],
   "source": [
    "#Imports Section\n",
    "import pandas as pd\n",
    "import seaborn as sns\n",
    "import matplotlib.pyplot as plt\n",
    "from sklearn.model_selection import train_test_split\n",
    "from sklearn import metrics\n",
    "from sklearn import tree"
   ]
  },
  {
   "cell_type": "code",
   "execution_count": null,
   "metadata": {},
   "outputs": [],
   "source": [
    "#Reading Data Frame\n",
    "data = pd.read_csv('/Users/kszm146/git-codebases/mydevelopment/github/Machine-Learning/Subradeep-Code/pacific.csv')"
   ]
  },
  {
   "cell_type": "code",
   "execution_count": 5,
   "metadata": {},
   "outputs": [
    {
     "name": "stdout",
     "output_type": "stream",
     "text": [
      "         ID                 Name      Date  Time Event Status Latitude  \\\n",
      "0  EP011949              UNNAMED  19490611     0           TS    20.2N   \n",
      "1  EP011949              UNNAMED  19490611   600           TS    20.2N   \n",
      "2  EP011949              UNNAMED  19490611  1200           TS    20.2N   \n",
      "3  EP011949              UNNAMED  19490611  1800           TS    20.3N   \n",
      "4  EP011949              UNNAMED  19490612     0           TS    20.4N   \n",
      "5  EP011949              UNNAMED  19490612   600           TS    20.5N   \n",
      "\n",
      "  Longitude  Maximum Wind  Minimum Pressure      ...       Low Wind SW  \\\n",
      "0    106.3W            45              -999      ...              -999   \n",
      "1    106.4W            45              -999      ...              -999   \n",
      "2    106.7W            45              -999      ...              -999   \n",
      "3    107.7W            45              -999      ...              -999   \n",
      "4    108.6W            45              -999      ...              -999   \n",
      "5    109.4W            45              -999      ...              -999   \n",
      "\n",
      "   Low Wind NW  Moderate Wind NE  Moderate Wind SE  Moderate Wind SW  \\\n",
      "0         -999              -999              -999              -999   \n",
      "1         -999              -999              -999              -999   \n",
      "2         -999              -999              -999              -999   \n",
      "3         -999              -999              -999              -999   \n",
      "4         -999              -999              -999              -999   \n",
      "5         -999              -999              -999              -999   \n",
      "\n",
      "   Moderate Wind NW  High Wind NE  High Wind SE  High Wind SW  High Wind NW  \n",
      "0              -999          -999          -999          -999          -999  \n",
      "1              -999          -999          -999          -999          -999  \n",
      "2              -999          -999          -999          -999          -999  \n",
      "3              -999          -999          -999          -999          -999  \n",
      "4              -999          -999          -999          -999          -999  \n",
      "5              -999          -999          -999          -999          -999  \n",
      "\n",
      "[6 rows x 22 columns]\n"
     ]
    }
   ],
   "source": [
    "print(data.head(6))"
   ]
  },
  {
   "cell_type": "code",
   "execution_count": null,
   "metadata": {},
   "outputs": [],
   "source": []
  }
 ],
 "metadata": {
  "kernelspec": {
   "display_name": "Python 3",
   "language": "python",
   "name": "python3"
  },
  "language_info": {
   "codemirror_mode": {
    "name": "ipython",
    "version": 3
   },
   "file_extension": ".py",
   "mimetype": "text/x-python",
   "name": "python",
   "nbconvert_exporter": "python",
   "pygments_lexer": "ipython3",
   "version": "3.7.0"
  }
 },
 "nbformat": 4,
 "nbformat_minor": 2
}
